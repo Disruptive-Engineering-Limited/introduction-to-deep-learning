{
 "cells": [
  {
   "cell_type": "markdown",
   "metadata": {},
   "source": [
    "# Chapter 4 - Train A Deeper Fully Connected Neural Network"
   ]
  },
  {
   "cell_type": "code",
   "execution_count": 1,
   "metadata": {},
   "outputs": [],
   "source": [
    "import pandas as pd\n",
    "import matplotlib.pyplot as plt\n",
    "\n",
    "%matplotlib inline\n",
    "\n",
    "from tensorflow.keras.layers import Dense\n",
    "from tensorflow.keras.optimizers import Adam\n",
    "from tensorflow.keras.models import Sequential"
   ]
  },
  {
   "cell_type": "markdown",
   "metadata": {},
   "source": [
    "Set the random seed to 2 so you always see similar results:"
   ]
  },
  {
   "cell_type": "code",
   "execution_count": 2,
   "metadata": {},
   "outputs": [],
   "source": [
    "import random\n",
    "random.seed(2)\n",
    "\n",
    "import tensorflow as tf\n",
    "tf.random.set_seed(2)\n",
    "\n",
    "import numpy as np\n",
    "np.random.seed(2)"
   ]
  },
  {
   "cell_type": "markdown",
   "metadata": {},
   "source": [
    "### Your Task"
   ]
  },
  {
   "cell_type": "markdown",
   "metadata": {},
   "source": [
    "Your fame meets no bounds at Worldwide Pizza Co.! Teams from around the world reach out for your help. You have received traffic data from one of the restaurant teams. They want to automatically increase delivery times if an order is placed during heavy traffic times.\n",
    "\n",
    "They asked you to help out and sent you a dataset they recorded with the day, hour, minute, and second their driver recorded as well whether there was any traffic.\n",
    "\n",
    "Using this data, you will have to build a classifier that predicts traffic.\n",
    "\n",
    "### Understand the data"
   ]
  },
  {
   "cell_type": "code",
   "execution_count": 3,
   "metadata": {},
   "outputs": [],
   "source": [
    "traffic_data = pd.read_csv('datasets/traffic_data.csv', index_col=0)"
   ]
  },
  {
   "cell_type": "code",
   "execution_count": 4,
   "metadata": {},
   "outputs": [
    {
     "data": {
      "text/html": [
       "<div>\n",
       "<style scoped>\n",
       "    .dataframe tbody tr th:only-of-type {\n",
       "        vertical-align: middle;\n",
       "    }\n",
       "\n",
       "    .dataframe tbody tr th {\n",
       "        vertical-align: top;\n",
       "    }\n",
       "\n",
       "    .dataframe thead th {\n",
       "        text-align: right;\n",
       "    }\n",
       "</style>\n",
       "<table border=\"1\" class=\"dataframe\">\n",
       "  <thead>\n",
       "    <tr style=\"text-align: right;\">\n",
       "      <th></th>\n",
       "      <th>day</th>\n",
       "      <th>minute</th>\n",
       "      <th>hour</th>\n",
       "      <th>second</th>\n",
       "      <th>type</th>\n",
       "    </tr>\n",
       "  </thead>\n",
       "  <tbody>\n",
       "    <tr>\n",
       "      <th>0</th>\n",
       "      <td>Monday</td>\n",
       "      <td>0</td>\n",
       "      <td>8</td>\n",
       "      <td>14</td>\n",
       "      <td>traffic</td>\n",
       "    </tr>\n",
       "    <tr>\n",
       "      <th>1</th>\n",
       "      <td>Monday</td>\n",
       "      <td>0</td>\n",
       "      <td>8</td>\n",
       "      <td>28</td>\n",
       "      <td>traffic</td>\n",
       "    </tr>\n",
       "    <tr>\n",
       "      <th>2</th>\n",
       "      <td>Monday</td>\n",
       "      <td>0</td>\n",
       "      <td>8</td>\n",
       "      <td>34</td>\n",
       "      <td>traffic</td>\n",
       "    </tr>\n",
       "    <tr>\n",
       "      <th>3</th>\n",
       "      <td>Monday</td>\n",
       "      <td>0</td>\n",
       "      <td>8</td>\n",
       "      <td>45</td>\n",
       "      <td>traffic</td>\n",
       "    </tr>\n",
       "    <tr>\n",
       "      <th>4</th>\n",
       "      <td>Monday</td>\n",
       "      <td>0</td>\n",
       "      <td>8</td>\n",
       "      <td>53</td>\n",
       "      <td>traffic</td>\n",
       "    </tr>\n",
       "  </tbody>\n",
       "</table>\n",
       "</div>"
      ],
      "text/plain": [
       "      day  minute  hour  second     type\n",
       "0  Monday       0     8      14  traffic\n",
       "1  Monday       0     8      28  traffic\n",
       "2  Monday       0     8      34  traffic\n",
       "3  Monday       0     8      45  traffic\n",
       "4  Monday       0     8      53  traffic"
      ]
     },
     "execution_count": 4,
     "metadata": {},
     "output_type": "execute_result"
    }
   ],
   "source": [
    "traffic_data.head()"
   ]
  },
  {
   "cell_type": "code",
   "execution_count": 5,
   "metadata": {},
   "outputs": [
    {
     "data": {
      "text/plain": [
       "(85638, 5)"
      ]
     },
     "execution_count": 5,
     "metadata": {},
     "output_type": "execute_result"
    }
   ],
   "source": [
    "traffic_data.shape"
   ]
  },
  {
   "cell_type": "markdown",
   "metadata": {},
   "source": [
    "There is a ton of data here! Great! Let's understand the traffic vs non-traffic variable:"
   ]
  },
  {
   "cell_type": "code",
   "execution_count": 6,
   "metadata": {},
   "outputs": [
    {
     "data": {
      "text/plain": [
       "no_traffic    50769\n",
       "traffic       34869\n",
       "Name: type, dtype: int64"
      ]
     },
     "execution_count": 6,
     "metadata": {},
     "output_type": "execute_result"
    }
   ],
   "source": [
    "traffic_data['type'].value_counts()"
   ]
  },
  {
   "cell_type": "markdown",
   "metadata": {},
   "source": [
    "The dataset is imbalanced, there is more data when there is no traffic, but you will manage!"
   ]
  },
  {
   "cell_type": "code",
   "execution_count": 7,
   "metadata": {},
   "outputs": [
    {
     "data": {
      "text/plain": [
       "Sunday       12278\n",
       "Saturday     12251\n",
       "Thursday     12241\n",
       "Wednesday    12237\n",
       "Tuesday      12217\n",
       "Monday       12212\n",
       "Friday       12202\n",
       "Name: day, dtype: int64"
      ]
     },
     "execution_count": 7,
     "metadata": {},
     "output_type": "execute_result"
    }
   ],
   "source": [
    "traffic_data['day'].value_counts()"
   ]
  },
  {
   "cell_type": "markdown",
   "metadata": {},
   "source": [
    "There is a relatively equal representation of data every day. How about the traffic vs. non-traffic variable per day?"
   ]
  },
  {
   "cell_type": "code",
   "execution_count": 8,
   "metadata": {},
   "outputs": [
    {
     "data": {
      "text/plain": [
       "day        type      \n",
       "Friday     traffic        6989\n",
       "           no_traffic     5213\n",
       "Monday     traffic        6972\n",
       "           no_traffic     5240\n",
       "Saturday   no_traffic    12251\n",
       "Sunday     no_traffic    12278\n",
       "Thursday   traffic        6965\n",
       "           no_traffic     5276\n",
       "Tuesday    traffic        6990\n",
       "           no_traffic     5227\n",
       "Wednesday  traffic        6953\n",
       "           no_traffic     5284\n",
       "Name: type, dtype: int64"
      ]
     },
     "execution_count": 8,
     "metadata": {},
     "output_type": "execute_result"
    }
   ],
   "source": [
    "traffic_data.groupby('day')['type'].value_counts()"
   ]
  },
  {
   "cell_type": "markdown",
   "metadata": {},
   "source": [
    "Fairly equal traffic vs no-traffic representations outside of Saturdays and Sundays. What about per hour?"
   ]
  },
  {
   "cell_type": "code",
   "execution_count": 9,
   "metadata": {},
   "outputs": [
    {
     "data": {
      "text/plain": [
       "8     6211\n",
       "16    6204\n",
       "20    6195\n",
       "18    6188\n",
       "14    6180\n",
       "10    6156\n",
       "12    6147\n",
       "15    6110\n",
       "17    6076\n",
       "13    6052\n",
       "21    6046\n",
       "11    6046\n",
       "19    6036\n",
       "9     5988\n",
       "22       3\n",
       "Name: hour, dtype: int64"
      ]
     },
     "execution_count": 9,
     "metadata": {},
     "output_type": "execute_result"
    }
   ],
   "source": [
    "traffic_data['hour'].value_counts()"
   ]
  },
  {
   "cell_type": "markdown",
   "metadata": {},
   "source": [
    "Hours start at 8 and stop at 22. 22 has very little data.\n",
    "\n",
    "Set up the type as a number:"
   ]
  },
  {
   "cell_type": "code",
   "execution_count": 10,
   "metadata": {},
   "outputs": [],
   "source": [
    "traffic_data['c_type'] = traffic_data['type'].apply(lambda x: 1 if x == 'traffic' else 0)"
   ]
  },
  {
   "cell_type": "markdown",
   "metadata": {},
   "source": [
    "It's quite hard to visualize the data. Nonetheless, let's try to plot days, hours, and type:"
   ]
  },
  {
   "cell_type": "code",
   "execution_count": 11,
   "metadata": {},
   "outputs": [],
   "source": [
    "import matplotlib.pyplot as plt\n",
    "from matplotlib.pyplot import colorbar, figure"
   ]
  },
  {
   "cell_type": "code",
   "execution_count": 12,
   "metadata": {},
   "outputs": [
    {
     "data": {
      "image/png": "[encoded data removed]",
      "text/plain": [
       "<Figure size 864x720 with 2 Axes>"
      ]
     },
     "metadata": {
      "needs_background": "light"
     },
     "output_type": "display_data"
    }
   ],
   "source": [
    "figure(num=None, figsize=(12, 10))\n",
    "plt.scatter(\n",
    "    traffic_data['day'], \n",
    "    traffic_data['hour'], \n",
    "    c=traffic_data['c_type'], \n",
    "    cmap='jet',\n",
    ")\n",
    "cbar = colorbar()"
   ]
  },
  {
   "cell_type": "markdown",
   "metadata": {},
   "source": [
    "As seen before, there is no traffic on Saturdays or Sundays. It seems to be mostly around some key hours, such as 8-10, 12-13, and 16-20.\n",
    "\n",
    "Let's first convert the days to new columns using one-hot encoding:"
   ]
  },
  {
   "cell_type": "code",
   "execution_count": 13,
   "metadata": {},
   "outputs": [],
   "source": [
    "traffic_data = traffic_data.join(pd.get_dummies(traffic_data['day']))"
   ]
  },
  {
   "cell_type": "markdown",
   "metadata": {},
   "source": [
    "Split the data again into a training and test set:"
   ]
  },
  {
   "cell_type": "code",
   "execution_count": 14,
   "metadata": {},
   "outputs": [],
   "source": [
    "training_dataset = traffic_data.sample(frac=0.8)\n",
    "testing_dataset = traffic_data[~traffic_data.index.isin(training_dataset.index)]"
   ]
  },
  {
   "cell_type": "markdown",
   "metadata": {},
   "source": [
    "And select the input columns you will be using from this dataset:"
   ]
  },
  {
   "cell_type": "code",
   "execution_count": 15,
   "metadata": {},
   "outputs": [],
   "source": [
    "input_columns = [\n",
    "    'Monday', \n",
    "    'Tuesday', \n",
    "    'Wednesday', \n",
    "    'Thursday', \n",
    "    'Friday', \n",
    "    'Saturday', \n",
    "    'Sunday', \n",
    "    'hour', \n",
    "    'minute', \n",
    "    'second'\n",
    "]"
   ]
  },
  {
   "cell_type": "markdown",
   "metadata": {},
   "source": [
    "### Set Up Your First Neural Network With a Hidden Layer"
   ]
  },
  {
   "cell_type": "code",
   "execution_count": 16,
   "metadata": {},
   "outputs": [],
   "source": [
    "from tensorflow.keras.layers import Dropout"
   ]
  },
  {
   "cell_type": "code",
   "execution_count": 17,
   "metadata": {},
   "outputs": [
    {
     "name": "stdout",
     "output_type": "stream",
     "text": [
      "Model: \"sequential\"\n",
      "_________________________________________________________________\n",
      "Layer (type)                 Output Shape              Param #   \n",
      "=================================================================\n",
      "dense (Dense)                (None, 32)                352       \n",
      "_________________________________________________________________\n",
      "dropout (Dropout)            (None, 32)                0         \n",
      "_________________________________________________________________\n",
      "dense_1 (Dense)              (None, 32)                1056      \n",
      "_________________________________________________________________\n",
      "dropout_1 (Dropout)          (None, 32)                0         \n",
      "_________________________________________________________________\n",
      "dense_2 (Dense)              (None, 1)                 33        \n",
      "=================================================================\n",
      "Total params: 1,441\n",
      "Trainable params: 1,441\n",
      "Non-trainable params: 0\n",
      "_________________________________________________________________\n"
     ]
    }
   ],
   "source": [
    "traffic_model = Sequential([\n",
    "    Dense(32, input_dim=len(input_columns), activation='relu'),\n",
    "    Dropout(0.1),\n",
    "    Dense(32, activation='relu'),\n",
    "    Dropout(0.1),\n",
    "    Dense(1, activation='sigmoid'),\n",
    "])\n",
    "\n",
    "adam = Adam()\n",
    "\n",
    "traffic_model.compile(loss='binary_crossentropy', optimizer='adam', metrics=['accuracy'])\n",
    "traffic_model.summary()"
   ]
  },
  {
   "cell_type": "code",
   "execution_count": 18,
   "metadata": {},
   "outputs": [],
   "source": [
    "batch_size = 100"
   ]
  },
  {
   "cell_type": "code",
   "execution_count": 19,
   "metadata": {
    "scrolled": true
   },
   "outputs": [
    {
     "name": "stdout",
     "output_type": "stream",
     "text": [
      "Epoch 1/30\n",
      "617/617 [==============================] - 2s 3ms/step - loss: 0.9406 - accuracy: 0.5587 - val_loss: 0.6465 - val_accuracy: 0.6614\n",
      "Epoch 2/30\n",
      "617/617 [==============================] - 2s 3ms/step - loss: 0.6101 - accuracy: 0.6394 - val_loss: 0.5305 - val_accuracy: 0.7052\n",
      "Epoch 3/30\n",
      "617/617 [==============================] - 2s 3ms/step - loss: 0.5457 - accuracy: 0.6751 - val_loss: 0.4958 - val_accuracy: 0.6986\n",
      "Epoch 4/30\n",
      "617/617 [==============================] - 2s 3ms/step - loss: 0.5087 - accuracy: 0.6840 - val_loss: 0.4856 - val_accuracy: 0.6958\n",
      "Epoch 5/30\n",
      "617/617 [==============================] - 2s 3ms/step - loss: 0.4931 - accuracy: 0.6940 - val_loss: 0.4829 - val_accuracy: 0.6952\n",
      "Epoch 6/30\n",
      "617/617 [==============================] - 2s 3ms/step - loss: 0.4886 - accuracy: 0.6975 - val_loss: 0.4811 - val_accuracy: 0.6998\n",
      "Epoch 7/30\n",
      "617/617 [==============================] - 2s 3ms/step - loss: 0.4838 - accuracy: 0.7060 - val_loss: 0.4705 - val_accuracy: 0.7292\n",
      "Epoch 8/30\n",
      "617/617 [==============================] - 2s 3ms/step - loss: 0.4731 - accuracy: 0.7233 - val_loss: 0.4499 - val_accuracy: 0.7628\n",
      "Epoch 9/30\n",
      "617/617 [==============================] - 2s 3ms/step - loss: 0.4449 - accuracy: 0.7566 - val_loss: 0.4114 - val_accuracy: 0.7862\n",
      "Epoch 10/30\n",
      "617/617 [==============================] - 2s 3ms/step - loss: 0.4034 - accuracy: 0.7747 - val_loss: 0.3427 - val_accuracy: 0.7957\n",
      "Epoch 11/30\n",
      "617/617 [==============================] - 2s 3ms/step - loss: 0.3570 - accuracy: 0.7980 - val_loss: 0.3005 - val_accuracy: 0.8596\n",
      "Epoch 12/30\n",
      "617/617 [==============================] - 2s 3ms/step - loss: 0.3218 - accuracy: 0.8000 - val_loss: 0.2678 - val_accuracy: 0.7981\n",
      "Epoch 13/30\n",
      "617/617 [==============================] - 2s 3ms/step - loss: 0.2963 - accuracy: 0.8082 - val_loss: 0.2489 - val_accuracy: 0.8016\n",
      "Epoch 14/30\n",
      "617/617 [==============================] - 2s 3ms/step - loss: 0.2826 - accuracy: 0.8226 - val_loss: 0.2536 - val_accuracy: 0.8619\n",
      "Epoch 15/30\n",
      "617/617 [==============================] - 2s 3ms/step - loss: 0.2724 - accuracy: 0.8373 - val_loss: 0.2270 - val_accuracy: 0.8600\n",
      "Epoch 16/30\n",
      "617/617 [==============================] - 2s 3ms/step - loss: 0.2652 - accuracy: 0.8456 - val_loss: 0.2127 - val_accuracy: 0.8951\n",
      "Epoch 17/30\n",
      "617/617 [==============================] - 2s 3ms/step - loss: 0.2504 - accuracy: 0.8635 - val_loss: 0.2123 - val_accuracy: 0.8908\n",
      "Epoch 18/30\n",
      "617/617 [==============================] - 2s 3ms/step - loss: 0.2603 - accuracy: 0.8613 - val_loss: 0.2239 - val_accuracy: 0.9037\n",
      "Epoch 19/30\n",
      "617/617 [==============================] - 2s 3ms/step - loss: 0.2503 - accuracy: 0.8658 - val_loss: 0.2120 - val_accuracy: 0.8997\n",
      "Epoch 20/30\n",
      "617/617 [==============================] - 2s 3ms/step - loss: 0.2400 - accuracy: 0.8710 - val_loss: 0.2122 - val_accuracy: 0.8822\n",
      "Epoch 21/30\n",
      "617/617 [==============================] - 2s 3ms/step - loss: 0.2455 - accuracy: 0.8720 - val_loss: 0.2269 - val_accuracy: 0.8933\n",
      "Epoch 22/30\n",
      "617/617 [==============================] - 2s 3ms/step - loss: 0.2354 - accuracy: 0.8755 - val_loss: 0.1936 - val_accuracy: 0.9053\n",
      "Epoch 23/30\n",
      "617/617 [==============================] - 2s 3ms/step - loss: 0.2296 - accuracy: 0.8784 - val_loss: 0.1836 - val_accuracy: 0.9053\n",
      "Epoch 24/30\n",
      "617/617 [==============================] - 2s 3ms/step - loss: 0.2110 - accuracy: 0.8877 - val_loss: 0.1674 - val_accuracy: 0.9569\n",
      "Epoch 25/30\n",
      "617/617 [==============================] - 2s 3ms/step - loss: 0.2086 - accuracy: 0.9127 - val_loss: 0.1620 - val_accuracy: 0.9745\n",
      "Epoch 26/30\n",
      "617/617 [==============================] - 2s 3ms/step - loss: 0.1766 - accuracy: 0.9341 - val_loss: 0.1469 - val_accuracy: 0.9584\n",
      "Epoch 27/30\n",
      "617/617 [==============================] - 2s 3ms/step - loss: 0.1663 - accuracy: 0.9431 - val_loss: 0.1334 - val_accuracy: 0.9737\n",
      "Epoch 28/30\n",
      "617/617 [==============================] - 2s 3ms/step - loss: 0.1505 - accuracy: 0.9518 - val_loss: 0.0858 - val_accuracy: 0.9981\n",
      "Epoch 29/30\n",
      "617/617 [==============================] - 2s 3ms/step - loss: 0.1436 - accuracy: 0.9566 - val_loss: 0.0774 - val_accuracy: 0.9993\n",
      "Epoch 30/30\n",
      "617/617 [==============================] - 2s 3ms/step - loss: 0.1307 - accuracy: 0.9612 - val_loss: 0.0750 - val_accuracy: 0.9991\n"
     ]
    }
   ],
   "source": [
    "history_traffic_model = traffic_model.fit(\n",
    "    training_dataset[input_columns], \n",
    "    training_dataset[['c_type']], \n",
    "    epochs=30,\n",
    "    validation_split=0.1,\n",
    "    batch_size=batch_size\n",
    ")"
   ]
  },
  {
   "cell_type": "code",
   "execution_count": 20,
   "metadata": {},
   "outputs": [
    {
     "name": "stdout",
     "output_type": "stream",
     "text": [
      "536/536 [==============================] - 1s 2ms/step - loss: 0.0765 - accuracy: 0.9984\n",
      "Evaluation result on Test Data : Loss = 0.0765421986579895, accuracy = 0.9983652234077454\n"
     ]
    }
   ],
   "source": [
    "test_loss, test_acc = traffic_model.evaluate(\n",
    "    testing_dataset[input_columns], \n",
    "    testing_dataset['c_type']\n",
    ")\n",
    "\n",
    "print(f\"Evaluation result on Test Data : Loss = {test_loss}, accuracy = {test_acc}\")"
   ]
  },
  {
   "cell_type": "markdown",
   "metadata": {},
   "source": [
    "The restaurant team is thrilled with your results!\n",
    "\n",
    "That’s awesome! You just built your first deep neural network and trained it to a high accuracy. Congratulations!"
   ]
  }
 ],
 "metadata": {
  "kernelspec": {
   "display_name": "Python 3",
   "language": "python",
   "name": "python3"
  },
  "language_info": {
   "codemirror_mode": {
    "name": "ipython",
    "version": 3
   },
   "file_extension": ".py",
   "mimetype": "text/x-python",
   "name": "python",
   "nbconvert_exporter": "python",
   "pygments_lexer": "ipython3",
   "version": "3.7.3"
  }
 },
 "nbformat": 4,
 "nbformat_minor": 4
}
